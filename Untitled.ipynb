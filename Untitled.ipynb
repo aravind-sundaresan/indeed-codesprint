{
 "cells": [
  {
   "cell_type": "code",
   "execution_count": 1,
   "metadata": {
    "collapsed": true
   },
   "outputs": [],
   "source": [
    "__author__ = \"whackadoodle\"\n",
    "\n",
    "import numpy as np\n",
    "import pandas as pd"
   ]
  },
  {
   "cell_type": "markdown",
   "metadata": {},
   "source": [
    "## Training Data "
   ]
  },
  {
   "cell_type": "code",
   "execution_count": 4,
   "metadata": {
    "collapsed": true
   },
   "outputs": [],
   "source": [
    "train_df = pd.read_csv('train.tsv', sep='\\t')"
   ]
  },
  {
   "cell_type": "code",
   "execution_count": 5,
   "metadata": {
    "collapsed": false
   },
   "outputs": [
    {
     "name": "stdout",
     "output_type": "stream",
     "text": [
      "<class 'pandas.core.frame.DataFrame'>\n",
      "RangeIndex: 4375 entries, 0 to 4374\n",
      "Data columns (total 2 columns):\n",
      "tags           3504 non-null object\n",
      "description    4375 non-null object\n",
      "dtypes: object(2)\n",
      "memory usage: 68.4+ KB\n"
     ]
    }
   ],
   "source": [
    "train_df.info()"
   ]
  },
  {
   "cell_type": "code",
   "execution_count": 6,
   "metadata": {
    "collapsed": false
   },
   "outputs": [
    {
     "data": {
      "text/plain": [
       "tags           871\n",
       "description      0\n",
       "dtype: int64"
      ]
     },
     "execution_count": 6,
     "metadata": {},
     "output_type": "execute_result"
    }
   ],
   "source": [
    "train_df.isnull().sum()"
   ]
  },
  {
   "cell_type": "code",
   "execution_count": 9,
   "metadata": {
    "collapsed": false
   },
   "outputs": [
    {
     "data": {
      "text/plain": [
       "2-4-years-experience-needed                                                          214\n",
       "licence-needed                                                                       165\n",
       "full-time-job                                                                        137\n",
       "hourly-wage                                                                          119\n",
       "part-time-job                                                                        118\n",
       "bs-degree-needed                                                                     110\n",
       "salary                                                                                98\n",
       "5-plus-years-experience-needed                                                        97\n",
       "supervising-job                                                                       91\n",
       "bs-degree-needed 2-4-years-experience-needed                                          86\n",
       "2-4-years-experience-needed bs-degree-needed                                          84\n",
       "1-year-experience-needed                                                              76\n",
       "5-plus-years-experience-needed bs-degree-needed                                       71\n",
       "bs-degree-needed 5-plus-years-experience-needed                                       62\n",
       "part-time-job hourly-wage                                                             40\n",
       "full-time-job hourly-wage                                                             37\n",
       "hourly-wage full-time-job                                                             36\n",
       "associate-needed                                                                      34\n",
       "2-4-years-experience-needed full-time-job                                             33\n",
       "hourly-wage part-time-job                                                             33\n",
       "2-4-years-experience-needed supervising-job                                           32\n",
       "licence-needed 2-4-years-experience-needed                                            32\n",
       "full-time-job salary                                                                  29\n",
       "supervising-job 5-plus-years-experience-needed                                        27\n",
       "1-year-experience-needed bs-degree-needed                                             26\n",
       "supervising-job 2-4-years-experience-needed                                           25\n",
       "2-4-years-experience-needed associate-needed                                          23\n",
       "2-4-years-experience-needed licence-needed                                            22\n",
       "salary full-time-job                                                                  21\n",
       "associate-needed 2-4-years-experience-needed                                          19\n",
       "                                                                                    ... \n",
       "supervising-job 5-plus-years-experience-needed salary full-time-job                    1\n",
       "salary ms-or-phd-needed                                                                1\n",
       "hourly-wage associate-needed 2-4-years-experience-needed part-time-job                 1\n",
       "1-year-experience-needed full-time-job bs-degree-needed salary                         1\n",
       "associate-needed part-time-job hourly-wage 1-year-experience-needed                    1\n",
       "supervising-job salary 5-plus-years-experience-needed bs-degree-needed                 1\n",
       "full-time-job bs-degree-needed salary supervising-job                                  1\n",
       "part-time-job supervising-job hourly-wage                                              1\n",
       "2-4-years-experience-needed part-time-job bs-degree-needed                             1\n",
       "hourly-wage supervising-job full-time-job                                              1\n",
       "supervising-job salary 2-4-years-experience-needed bs-degree-needed                    1\n",
       "2-4-years-experience-needed supervising-job associate-needed                           1\n",
       "licence-needed full-time-job 1-year-experience-needed hourly-wage                      1\n",
       "full-time-job hourly-wage 2-4-years-experience-needed bs-degree-needed                 1\n",
       "licence-needed part-time-job hourly-wage                                               1\n",
       "ms-or-phd-needed part-time-job                                                         1\n",
       "1-year-experience-needed bs-degree-needed supervising-job                              1\n",
       "supervising-job salary 2-4-years-experience-needed full-time-job                       1\n",
       "part-time-job 2-4-years-experience-needed salary                                       1\n",
       "bs-degree-needed hourly-wage supervising-job full-time-job                             1\n",
       "part-time-job hourly-wage 2-4-years-experience-needed                                  1\n",
       "2-4-years-experience-needed full-time-job salary licence-needed                        1\n",
       "associate-needed part-time-job hourly-wage 2-4-years-experience-needed                 1\n",
       "full-time-job salary ms-or-phd-needed                                                  1\n",
       "supervising-job full-time-job bs-degree-needed salary 2-4-years-experience-needed      1\n",
       "full-time-job supervising-job salary 2-4-years-experience-needed licence-needed        1\n",
       "1-year-experience-needed salary bs-degree-needed full-time-job                         1\n",
       "bs-degree-needed part-time-job 2-4-years-experience-needed                             1\n",
       "2-4-years-experience-needed bs-degree-needed hourly-wage full-time-job                 1\n",
       "ms-or-phd-needed 2-4-years-experience-needed salary                                    1\n",
       "Name: tags, dtype: int64"
      ]
     },
     "execution_count": 9,
     "metadata": {},
     "output_type": "execute_result"
    }
   ],
   "source": [
    "train_df['tags'].value_counts()"
   ]
  },
  {
   "cell_type": "code",
   "execution_count": 12,
   "metadata": {
    "collapsed": false
   },
   "outputs": [
    {
     "data": {
      "text/plain": [
       "596"
      ]
     },
     "execution_count": 12,
     "metadata": {},
     "output_type": "execute_result"
    }
   ],
   "source": [
    "len(train_df['tags'].unique())"
   ]
  },
  {
   "cell_type": "code",
   "execution_count": null,
   "metadata": {
    "collapsed": true
   },
   "outputs": [],
   "source": []
  }
 ],
 "metadata": {
  "kernelspec": {
   "display_name": "Python 2",
   "language": "python",
   "name": "python2"
  },
  "language_info": {
   "codemirror_mode": {
    "name": "ipython",
    "version": 2
   },
   "file_extension": ".py",
   "mimetype": "text/x-python",
   "name": "python",
   "nbconvert_exporter": "python",
   "pygments_lexer": "ipython2",
   "version": "2.7.11"
  }
 },
 "nbformat": 4,
 "nbformat_minor": 0
}
